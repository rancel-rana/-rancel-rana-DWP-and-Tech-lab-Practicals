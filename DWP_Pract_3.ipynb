{
  "nbformat": 4,
  "nbformat_minor": 0,
  "metadata": {
    "colab": {
      "provenance": [],
      "authorship_tag": "ABX9TyOZMaONjr6qaS5aiea24Nv6",
      "include_colab_link": true
    },
    "kernelspec": {
      "name": "python3",
      "display_name": "Python 3"
    },
    "language_info": {
      "name": "python"
    }
  },
  "cells": [
    {
      "cell_type": "markdown",
      "metadata": {
        "id": "view-in-github",
        "colab_type": "text"
      },
      "source": [
        "<a href=\"https://colab.research.google.com/github/rancel-rana/-rancel-rana-DWP-and-Tech-lab-Practicals/blob/main/DWP_Pract_3.ipynb\" target=\"_parent\"><img src=\"https://colab.research.google.com/assets/colab-badge.svg\" alt=\"Open In Colab\"/></a>"
      ]
    },
    {
      "cell_type": "code",
      "execution_count": null,
      "metadata": {
        "id": "NtdLOwZViGN1",
        "colab": {
          "base_uri": "https://localhost:8080/"
        },
        "outputId": "16102a12-dbc2-42e1-c462-8511c6fccf6c"
      },
      "outputs": [
        {
          "output_type": "stream",
          "name": "stdout",
          "text": [
            "   Color Size Category\n",
            "0    Red    S        A\n",
            "1  Green    M        B\n",
            "2   Blue    L        A\n",
            "3  Green    M        A\n",
            "4   Blue    L        B\n",
            "5    Red    S        C\n"
          ]
        }
      ],
      "source": [
        "#One hot encoding\n",
        "import pandas as pd\n",
        "from sklearn.preprocessing import LabelEncoder\n",
        "from sklearn.preprocessing import OneHotEncoder\n",
        "import numpy as np\n",
        "\n",
        "#Sample data for encoding\n",
        "data = {\n",
        "    'Color' : ['Red','Green','Blue','Green','Blue','Red'],\n",
        "    'Size' : ['S','M','L','M','L','S'],\n",
        "    'Category' : ['A','B','A','A','B','C']\n",
        "}\n",
        "\n",
        "df = pd.DataFrame(data)\n",
        "print(df)"
      ]
    },
    {
      "cell_type": "code",
      "source": [
        "one_hot = pd.get_dummies(df['Color'],dtype=int)\n",
        "df_one_hot = pd.concat([df,one_hot],axis=1)\n",
        "print('\\nOne Hot Encoding:')\n",
        "print(df_one_hot)"
      ],
      "metadata": {
        "id": "s-AtXbw4iK3Z",
        "colab": {
          "base_uri": "https://localhost:8080/"
        },
        "outputId": "78c822a5-7371-4a68-e902-4285ee738198"
      },
      "execution_count": null,
      "outputs": [
        {
          "output_type": "stream",
          "name": "stdout",
          "text": [
            "\n",
            "One Hot Encoding:\n",
            "   Color Size Category  Blue  Green  Red\n",
            "0    Red    S        A     0      0    1\n",
            "1  Green    M        B     0      1    0\n",
            "2   Blue    L        A     1      0    0\n",
            "3  Green    M        A     0      1    0\n",
            "4   Blue    L        B     1      0    0\n",
            "5    Red    S        C     0      0    1\n"
          ]
        }
      ]
    },
    {
      "cell_type": "code",
      "source": [
        "# Label encoding\n",
        "label_encoder = LabelEncoder()\n",
        "df['Color_Label'] = label_encoder.fit_transform(df['Color'])\n",
        "df['Size_Label'] = label_encoder.fit_transform(df['Size'])\n",
        "df['Category_Label'] = label_encoder.fit_transform(df['Category'])\n",
        "print('\\nLabel Encoding:')\n",
        "print(df[['Color','Color_Label','Size','Size_Label','Category','Category_Label']])"
      ],
      "metadata": {
        "colab": {
          "base_uri": "https://localhost:8080/"
        },
        "id": "4y-vzqZQic1n",
        "outputId": "22d58f1a-dcb4-4196-87fd-7fd46660d83e"
      },
      "execution_count": null,
      "outputs": [
        {
          "output_type": "stream",
          "name": "stdout",
          "text": [
            "\n",
            "Label Encoding:\n",
            "   Color  Color_Label Size  Size_Label Category  Category_Label\n",
            "0    Red            2    S           2        A               0\n",
            "1  Green            1    M           1        B               1\n",
            "2   Blue            0    L           0        A               0\n",
            "3  Green            1    M           1        A               0\n",
            "4   Blue            0    L           0        B               1\n",
            "5    Red            2    S           2        C               2\n"
          ]
        }
      ]
    },
    {
      "cell_type": "code",
      "source": [
        "# Frequency Encoding\n",
        "freq_encoding = df['Category'].value_counts().to_dict()\n",
        "df['Category_Freq'] = df['Category'].map(freq_encoding) #list comprehension, lamda funct (map,reduce)\n",
        "print('\\nFrequency Encoding:')\n",
        "print(df[['Category','Category_Freq']])"
      ],
      "metadata": {
        "colab": {
          "base_uri": "https://localhost:8080/"
        },
        "id": "JjDTG8BQilws",
        "outputId": "06df34e9-7bb1-49bf-a628-bc343f928f9e"
      },
      "execution_count": null,
      "outputs": [
        {
          "output_type": "stream",
          "name": "stdout",
          "text": [
            "\n",
            "Frequency Encoding:\n",
            "  Category  Category_Freq\n",
            "0        A              3\n",
            "1        B              2\n",
            "2        A              3\n",
            "3        A              3\n",
            "4        B              2\n",
            "5        C              1\n"
          ]
        }
      ]
    },
    {
      "cell_type": "code",
      "source": [
        "# Ordinal Encoding\n",
        "# Ordinal mapping based on predefined order\n",
        "ordinal_mapping = {'S':1,'M':2,'L':3}\n",
        "df['Size_Ordinal'] = df['Size'].map(ordinal_mapping)\n",
        "print('\\nOrdinal Encoding:')\n",
        "print(df[['Size','Size_Ordinal']])"
      ],
      "metadata": {
        "colab": {
          "base_uri": "https://localhost:8080/"
        },
        "id": "gElNkIbwimnx",
        "outputId": "427a5661-7e76-46ab-e9f8-adddc10c767e"
      },
      "execution_count": null,
      "outputs": [
        {
          "output_type": "stream",
          "name": "stdout",
          "text": [
            "\n",
            "Ordinal Encoding:\n",
            "  Size  Size_Ordinal\n",
            "0    S             1\n",
            "1    M             2\n",
            "2    L             3\n",
            "3    M             2\n",
            "4    L             3\n",
            "5    S             1\n"
          ]
        }
      ]
    },
    {
      "cell_type": "code",
      "source": [
        "#Mean Encoding\n",
        "mean_encoding = df.groupby('Category')['Size'].apply(lambda x: x.map({'S':1, 'M':2, 'L':3}).mean()).to_dict()\n",
        "df['Category_Mean'] = df['Category'].map(mean_encoding)\n",
        "print('\\nMean Encoding:')\n",
        "print(df[['Category','Category_Mean']])"
      ],
      "metadata": {
        "colab": {
          "base_uri": "https://localhost:8080/"
        },
        "id": "5lfSk008iooP",
        "outputId": "bb32ae71-ce42-44b2-8f43-2cd1d0f61e0f"
      },
      "execution_count": null,
      "outputs": [
        {
          "output_type": "stream",
          "name": "stdout",
          "text": [
            "\n",
            "Mean Encoding:\n",
            "  Category  Category_Mean\n",
            "0        A            2.0\n",
            "1        B            2.5\n",
            "2        A            2.0\n",
            "3        A            2.0\n",
            "4        B            2.5\n",
            "5        C            1.0\n"
          ]
        }
      ]
    },
    {
      "cell_type": "code",
      "source": [],
      "metadata": {
        "id": "qWk-JQAYiqU4"
      },
      "execution_count": null,
      "outputs": []
    }
  ]
}