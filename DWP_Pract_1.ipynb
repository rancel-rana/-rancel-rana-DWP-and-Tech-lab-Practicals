{
  "nbformat": 4,
  "nbformat_minor": 0,
  "metadata": {
    "colab": {
      "provenance": [],
      "authorship_tag": "ABX9TyMBMu2a5nl8zeloozK8vFmP",
      "include_colab_link": true
    },
    "kernelspec": {
      "name": "python3",
      "display_name": "Python 3"
    },
    "language_info": {
      "name": "python"
    }
  },
  "cells": [
    {
      "cell_type": "markdown",
      "metadata": {
        "id": "view-in-github",
        "colab_type": "text"
      },
      "source": [
        "<a href=\"https://colab.research.google.com/github/rancel-rana/-rancel-rana-DWP-and-Tech-lab-Practicals/blob/main/DWP_Pract_1.ipynb\" target=\"_parent\"><img src=\"https://colab.research.google.com/assets/colab-badge.svg\" alt=\"Open In Colab\"/></a>"
      ]
    },
    {
      "cell_type": "code",
      "execution_count": null,
      "metadata": {
        "colab": {
          "base_uri": "https://localhost:8080/"
        },
        "id": "VCOWiRuRg3Fi",
        "outputId": "21f78d62-ee8e-4da7-87bd-925bcf4a4b2a"
      },
      "outputs": [
        {
          "output_type": "stream",
          "name": "stdout",
          "text": [
            "    Age Gender\n",
            "0  25.0      M\n",
            "1   NaN      F\n",
            "2  30.0      M\n",
            "3  22.0      F\n",
            "4   NaN   None\n",
            "Age       2\n",
            "Gender    1\n",
            "dtype: int64\n",
            "    Age Gender\n",
            "0  25.0      M\n",
            "2  30.0      M\n",
            "3  22.0      F\n"
          ]
        }
      ],
      "source": [
        "# To delete missing values\n",
        "import pandas as pd\n",
        "\n",
        "# Sample DataFrame with missing values\n",
        "data = {'Age': [25, None, 30, 22, None],\n",
        "        'Gender': ['M','F','M','F',None]}\n",
        "\n",
        "df = pd.DataFrame(data)\n",
        "print(df)\n",
        "print(df.isna().sum())\n",
        "\n",
        "# Drop rows with any missing values\n",
        "df_complete_case = df.dropna()\n",
        "print(df_complete_case)"
      ]
    },
    {
      "cell_type": "code",
      "source": [
        "# Handling Missing Numerical Data (Mean or Median Imputation)\n",
        "\n",
        "# Mean Imputation\n",
        "df['Age_mean_imputed'] = df['Age'].fillna(df['Age'].mean()) #type(df['age'])\n",
        "print(df)\n",
        "\n",
        "# Median Imputation\n",
        "df['Age_median_imputed'] = df['Age'].fillna(df['Age'].median())\n",
        "print(df)"
      ],
      "metadata": {
        "colab": {
          "base_uri": "https://localhost:8080/"
        },
        "id": "ZmlEr5X7g-rT",
        "outputId": "0cfc54d1-15d2-4d6b-d16a-997f1d0eecde"
      },
      "execution_count": null,
      "outputs": [
        {
          "output_type": "stream",
          "name": "stdout",
          "text": [
            "    Age Gender  Age_mean_imputed\n",
            "0  25.0      M         25.000000\n",
            "1   NaN      F         25.666667\n",
            "2  30.0      M         30.000000\n",
            "3  22.0      F         22.000000\n",
            "4   NaN   None         25.666667\n",
            "    Age Gender  Age_mean_imputed  Age_median_imputed\n",
            "0  25.0      M         25.000000                25.0\n",
            "1   NaN      F         25.666667                25.0\n",
            "2  30.0      M         30.000000                30.0\n",
            "3  22.0      F         22.000000                22.0\n",
            "4   NaN   None         25.666667                25.0\n"
          ]
        }
      ]
    },
    {
      "cell_type": "code",
      "source": [
        "# End of Distribution Imputation\n",
        "# Missing values can be replaced with a value at the end of the distribution, such as the minimum or maximum value.\n",
        "\n",
        "# Replace with minimum value\n",
        "df['Age_min_imputed'] = df['Age'].fillna(df['Age'].min())\n",
        "print(df)\n",
        "\n",
        "# Replace with maximum value\n",
        "df['Age_max_imputed'] = df['Age'].fillna(df['Age'].max())\n",
        "print(df)"
      ],
      "metadata": {
        "colab": {
          "base_uri": "https://localhost:8080/"
        },
        "id": "5aUbSjrlhAaY",
        "outputId": "45af4565-43d2-40ca-f056-0fed4fe9b61d"
      },
      "execution_count": null,
      "outputs": [
        {
          "output_type": "stream",
          "name": "stdout",
          "text": [
            "    Age Gender  Age_mean_imputed  Age_median_imputed  Age_min_imputed\n",
            "0  25.0      M         25.000000                25.0             25.0\n",
            "1   NaN      F         25.666667                25.0             22.0\n",
            "2  30.0      M         30.000000                30.0             30.0\n",
            "3  22.0      F         22.000000                22.0             22.0\n",
            "4   NaN   None         25.666667                25.0             22.0\n",
            "    Age Gender  Age_mean_imputed  Age_median_imputed  Age_min_imputed  \\\n",
            "0  25.0      M         25.000000                25.0             25.0   \n",
            "1   NaN      F         25.666667                25.0             22.0   \n",
            "2  30.0      M         30.000000                30.0             30.0   \n",
            "3  22.0      F         22.000000                22.0             22.0   \n",
            "4   NaN   None         25.666667                25.0             22.0   \n",
            "\n",
            "   Age_max_imputed  \n",
            "0             25.0  \n",
            "1             30.0  \n",
            "2             30.0  \n",
            "3             22.0  \n",
            "4             30.0  \n"
          ]
        }
      ]
    },
    {
      "cell_type": "code",
      "source": [
        "# Arbitary Value Imputation\n",
        "# You can replace missing values with a custom value, like 0 or a placeholder such as -1.\n",
        "\n",
        "df['Age_arbitary_imputed'] = df['Age'].fillna(-1)\n",
        "print(df)"
      ],
      "metadata": {
        "colab": {
          "base_uri": "https://localhost:8080/"
        },
        "id": "cRePagSThClE",
        "outputId": "e30e784c-c663-4cb0-8876-23e7e0dc1ac4"
      },
      "execution_count": null,
      "outputs": [
        {
          "output_type": "stream",
          "name": "stdout",
          "text": [
            "    Age Gender  Age_mean_imputed  Age_median_imputed  Age_min_imputed  \\\n",
            "0  25.0      M         25.000000                25.0             25.0   \n",
            "1   NaN      F         25.666667                25.0             22.0   \n",
            "2  30.0      M         30.000000                30.0             30.0   \n",
            "3  22.0      F         22.000000                22.0             22.0   \n",
            "4   NaN   None         25.666667                25.0             22.0   \n",
            "\n",
            "   Age_max_imputed  Age_arbitary_imputed  \n",
            "0             25.0                  25.0  \n",
            "1             30.0                  -1.0  \n",
            "2             30.0                  30.0  \n",
            "3             22.0                  22.0  \n",
            "4             30.0                  -1.0  \n"
          ]
        }
      ]
    },
    {
      "cell_type": "code",
      "source": [
        "# Frequent category imputation\n",
        "# Replace missing values in categorical coluns with the most frequent (mode) category\n",
        "\n",
        "df['Gender_frequent_imputed'] = df['Gender'].fillna(df['Gender'].mode()[0])\n",
        "print(df)"
      ],
      "metadata": {
        "colab": {
          "base_uri": "https://localhost:8080/"
        },
        "id": "WBHe-kichSJa",
        "outputId": "263735ab-e8e7-4467-e620-f50c3123841d"
      },
      "execution_count": null,
      "outputs": [
        {
          "output_type": "stream",
          "name": "stdout",
          "text": [
            "    Age Gender  Age_mean_imputed  Age_median_imputed  Age_min_imputed  \\\n",
            "0  25.0      M         25.000000                25.0             25.0   \n",
            "1   NaN      F         25.666667                25.0             22.0   \n",
            "2  30.0      M         30.000000                30.0             30.0   \n",
            "3  22.0      F         22.000000                22.0             22.0   \n",
            "4   NaN   None         25.666667                25.0             22.0   \n",
            "\n",
            "   Age_max_imputed  Age_arbitary_imputed Gender_frequent_imputed  \n",
            "0             25.0                  25.0                       M  \n",
            "1             30.0                  -1.0                       F  \n",
            "2             30.0                  30.0                       M  \n",
            "3             22.0                  22.0                       F  \n",
            "4             30.0                  -1.0                       F  \n"
          ]
        }
      ]
    },
    {
      "cell_type": "code",
      "source": [],
      "metadata": {
        "id": "AqtLQ1MRhT9O"
      },
      "execution_count": null,
      "outputs": []
    }
  ]
}